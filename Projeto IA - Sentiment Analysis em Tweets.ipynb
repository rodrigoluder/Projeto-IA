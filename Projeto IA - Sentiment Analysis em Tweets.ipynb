{
 "cells": [
  {
   "cell_type": "markdown",
   "metadata": {},
   "source": [
    "# Projeto IA - Sentiment Analysis em Tweets <hr>"
   ]
  },
  {
   "cell_type": "markdown",
   "metadata": {},
   "source": [
    "#### Aluno: Rodrigo Ludermir de Oliveira"
   ]
  },
  {
   "cell_type": "markdown",
   "metadata": {},
   "source": [
    "## Informações sobre base de dados"
   ]
  },
  {
   "cell_type": "markdown",
   "metadata": {},
   "source": [
    "### Título: Sentiment140 dataset with 1.6 million tweets (Sentiment analysis with tweets)\n",
    "\n",
    "<p> Link do Kaggle: https://www.kaggle.com/kazanova/sentiment140 </p> <hr>\n",
    "\n",
    "##### Context\n",
    "<p> This is the sentiment140 dataset. It contains 1,600,000 tweets extracted using the twitter api . The tweets have been annotated (0 = negative, 4 = positive) and they can be used to detect sentiment. </p>\n",
    "\n",
    "##### Content\n",
    "\n",
    "<p>It contains the following 6 fields:\n",
    "\n",
    "1. target: the polarity of the tweet (0 = negative, 2 = neutral, 4 = positive)\n",
    "\n",
    "2. ids: The id of the tweet ( 2087)\n",
    "\n",
    "3. date: the date of the tweet (Sat May 16 23:58:44 UTC 2009)\n",
    "\n",
    "4. flag: The query (lyx). If there is no query, then this value is NO_QUERY.\n",
    "\n",
    "5. user: the user that tweeted (robotickilldozr)\n",
    "\n",
    "6. text: the text of the tweet (Lyx is cool)</p>\n",
    "\n",
    "##### Acknowledgements\n",
    "\n",
    "<p>The official link regarding the dataset with resources about how it was generated is <a href ='http://help.sentiment140.com/for-students'>here</a> <br>\n",
    "The official paper detailing the approach is <a href='https://www-cs.stanford.edu/people/alecmgo/papers/TwitterDistantSupervision09.pdf'>here</a> </p>\n",
    "\n",
    "<p>Citation: Go, A., Bhayani, R. and Huang, L., 2009. Twitter sentiment classification using distant supervision. CS224N Project Report, Stanford, 1(2009), p.12. </p>"
   ]
  },
  {
   "cell_type": "markdown",
   "metadata": {},
   "source": [
    "### Um pouco sobre Análise de Sentimento e sua importância:"
   ]
  },
  {
   "cell_type": "markdown",
   "metadata": {},
   "source": [
    "<p> Atualmente milhões de pessoas usam o Twitter e outras redes sociais para expressar suas opiniões, sentimentos e emoções em relação a determinado tópico, evento ou personalidade, entre outros temas de interesse público ou privado. Nesse contexto a tarefa de análise de sentimento é sobre detectar essas emoções, opiniões, avaliações e atitudes, classificando o sentimento expresso nos tweets em classes como positivas ou negativas a partir dos dados textuais. </p>\n",
    "\n",
    "<p>Desse modo, muitas empresas estão interessadas em usar os dados textuais para análise semântica, extraindo a visão das pessoas sobre seus produtos e serviços. A análise de sentimento é muito importante para que eles conheçam o nível de satisfação do cliente e possam melhorar seus serviços de acordo com o feedback recebido. Para trabalhar com os dados de textuais, uma das estratégiais é extrair os dados de plataformas digitais relacionados a um dado tópico e utilizar ferramentas de ciência dos dados e machine learning para extrair conhecimento desses dados.</p>\n",
    "\n",
    "<p>O Twitter tem se destacado dentre as plataformas de comunicação porque sua utilização vem se expandindo rapidamente com mais 200 milhões de usuários. O Twitter foi fundado em 2006 e atualmente é a plataforma de microbloging mais famosa. Em 2017, 2 milhões de usuários compartilharam 8,3 milhões de tweets em uma hora. Os usuários do Twitter publicam seus pensamentos, emoções e mensagens em seus perfis, chamados de tweets. O limite de palavras de um único tweet tem 140 caracteres. </p>\n",
    "\n",
    "<p>Análise de sentimento é uma tarefa de classificação de textos que tem como base o campo de NLP (processamento de linguagem natural). Para analisar textos de tweets, geralmente utiliza-se técnicas tradicionais de NLP para pre-processamento como tokenização das palavras, remoção de stopwords (eu, meu, nosso, seu, é, fui, etc), além da limpeza do texto através da remoção dos caracteres especiais e sinais de pontuação.</p>"
   ]
  },
  {
   "cell_type": "markdown",
   "metadata": {},
   "source": [
    "## Download das bibliotecas e configuracão do backend"
   ]
  },
  {
   "cell_type": "code",
   "execution_count": 1,
   "metadata": {},
   "outputs": [],
   "source": [
    "# bibliotecas e modelos de analise e visualizacao dos dados\n",
    "\n",
    "import numpy as np\n",
    "import pandas as pd\n",
    "import seaborn as sns\n",
    "from pylab import rcParams\n",
    "import matplotlib.pyplot as plt\n",
    "from matplotlib import rc\n",
    "from collections import defaultdict\n",
    "from textwrap import wrap\n",
    "import string\n",
    "import datetime as dt\n",
    "\n",
    "# pacotes de pre-processamento para nlp (nltk)\n",
    "\n",
    "import nltk\n",
    "import re\n",
    "from nltk.corpus import stopwords\n",
    "from  nltk.stem import SnowballStemmer\n",
    "from nltk.tokenize import RegexpTokenizer\n",
    "\n",
    "# modelos do sklearn para criar e avaliar modelos\n",
    "\n",
    "import sklearn.metrics as mt\n",
    "from sklearn.metrics import confusion_matrix, classification_report\n",
    "from sklearn.feature_extraction.text import CountVectorizer\n",
    "from sklearn.model_selection import train_test_split\n",
    "from sklearn.linear_model import LogisticRegression\n",
    "from sklearn.ensemble import RandomForestClassifier\n",
    "from sklearn.naive_bayes import MultinomialNB\n",
    "from sklearn.metrics import roc_curve, auc\n",
    "from sklearn.model_selection import GridSearchCV\n",
    "from sklearn.neural_network import MLPClassifier\n",
    "from sklearn.metrics import f1_score, accuracy_score\n",
    "\n",
    "\n",
    "# biblioteca e modelos do Pytorch\n",
    "\n",
    "import torch\n",
    "from torch import nn, optim\n",
    "from torch.utils.data import Dataset, DataLoader\n",
    "import torch.nn.functional as F\n",
    "\n",
    "\n",
    "# pacotes do huggingFace para facilitar implementacao de redes transformers - BERT, Roberta, GPT, xML\n",
    "\n",
    "import transformers\n",
    "from transformers import BertModel, BertTokenizer, AdamW, get_linear_schedule_with_warmup, BertForSequenceClassification\n",
    "\n",
    "# simpletransformers facilita mais ainda implementacao de transformers\n",
    "from simpletransformers.classification import ClassificationModel\n",
    "\n",
    "# configuracoes para visualizacao no jupyter notebook\n",
    "\n",
    "%matplotlib inline\n",
    "%config InlineBackend.figure_format='retina'\n",
    "sns.set(style='whitegrid', palette='muted', font_scale=1.2)\n",
    "HAPPY_COLORS_PALETTE = [\"#01BEFE\", \"#FFDD00\", \"#FF7D00\", \"#FF006D\", \"#ADFF02\", \"#8F00FF\"]\n",
    "sns.set_palette(sns.color_palette(HAPPY_COLORS_PALETTE))\n",
    "rcParams['figure.figsize'] = 16, 10\n",
    "\n",
    "# random seed para replicar codigo e obter mesmos resultados\n",
    "\n",
    "RANDOM_SEED = 0\n",
    "np.random.seed(RANDOM_SEED)\n",
    "torch.manual_seed(RANDOM_SEED)\n",
    "\n",
    "# ignorar warnings de uso dos pacotes para deixar resultados mais limpos\n",
    "\n",
    "import warnings\n",
    "warnings.filterwarnings(\"ignore\")"
   ]
  },
  {
   "cell_type": "markdown",
   "metadata": {},
   "source": [
    "### Carregando os dados"
   ]
  },
  {
   "cell_type": "code",
   "execution_count": 2,
   "metadata": {},
   "outputs": [],
   "source": [
    "dados = pd.read_csv('training.1600000.processed.noemoticon.csv', encoding = \"ISO-8859-1\", engine=\"python\")\n",
    "dados.columns = [\"label\", \"time\", \"date\", \"query\", \"username\", \"text\"]"
   ]
  },
  {
   "cell_type": "markdown",
   "metadata": {},
   "source": [
    "### Explorando os dados"
   ]
  },
  {
   "cell_type": "code",
   "execution_count": 3,
   "metadata": {},
   "outputs": [
    {
     "data": {
      "text/html": [
       "<div>\n",
       "<style scoped>\n",
       "    .dataframe tbody tr th:only-of-type {\n",
       "        vertical-align: middle;\n",
       "    }\n",
       "\n",
       "    .dataframe tbody tr th {\n",
       "        vertical-align: top;\n",
       "    }\n",
       "\n",
       "    .dataframe thead th {\n",
       "        text-align: right;\n",
       "    }\n",
       "</style>\n",
       "<table border=\"1\" class=\"dataframe\">\n",
       "  <thead>\n",
       "    <tr style=\"text-align: right;\">\n",
       "      <th></th>\n",
       "      <th>label</th>\n",
       "      <th>time</th>\n",
       "      <th>date</th>\n",
       "      <th>query</th>\n",
       "      <th>username</th>\n",
       "      <th>text</th>\n",
       "    </tr>\n",
       "  </thead>\n",
       "  <tbody>\n",
       "    <tr>\n",
       "      <th>0</th>\n",
       "      <td>0</td>\n",
       "      <td>1467810672</td>\n",
       "      <td>Mon Apr 06 22:19:49 PDT 2009</td>\n",
       "      <td>NO_QUERY</td>\n",
       "      <td>scotthamilton</td>\n",
       "      <td>is upset that he can't update his Facebook by ...</td>\n",
       "    </tr>\n",
       "    <tr>\n",
       "      <th>1</th>\n",
       "      <td>0</td>\n",
       "      <td>1467810917</td>\n",
       "      <td>Mon Apr 06 22:19:53 PDT 2009</td>\n",
       "      <td>NO_QUERY</td>\n",
       "      <td>mattycus</td>\n",
       "      <td>@Kenichan I dived many times for the ball. Man...</td>\n",
       "    </tr>\n",
       "    <tr>\n",
       "      <th>2</th>\n",
       "      <td>0</td>\n",
       "      <td>1467811184</td>\n",
       "      <td>Mon Apr 06 22:19:57 PDT 2009</td>\n",
       "      <td>NO_QUERY</td>\n",
       "      <td>ElleCTF</td>\n",
       "      <td>my whole body feels itchy and like its on fire</td>\n",
       "    </tr>\n",
       "    <tr>\n",
       "      <th>3</th>\n",
       "      <td>0</td>\n",
       "      <td>1467811193</td>\n",
       "      <td>Mon Apr 06 22:19:57 PDT 2009</td>\n",
       "      <td>NO_QUERY</td>\n",
       "      <td>Karoli</td>\n",
       "      <td>@nationwideclass no, it's not behaving at all....</td>\n",
       "    </tr>\n",
       "    <tr>\n",
       "      <th>4</th>\n",
       "      <td>0</td>\n",
       "      <td>1467811372</td>\n",
       "      <td>Mon Apr 06 22:20:00 PDT 2009</td>\n",
       "      <td>NO_QUERY</td>\n",
       "      <td>joy_wolf</td>\n",
       "      <td>@Kwesidei not the whole crew</td>\n",
       "    </tr>\n",
       "    <tr>\n",
       "      <th>5</th>\n",
       "      <td>0</td>\n",
       "      <td>1467811592</td>\n",
       "      <td>Mon Apr 06 22:20:03 PDT 2009</td>\n",
       "      <td>NO_QUERY</td>\n",
       "      <td>mybirch</td>\n",
       "      <td>Need a hug</td>\n",
       "    </tr>\n",
       "    <tr>\n",
       "      <th>6</th>\n",
       "      <td>0</td>\n",
       "      <td>1467811594</td>\n",
       "      <td>Mon Apr 06 22:20:03 PDT 2009</td>\n",
       "      <td>NO_QUERY</td>\n",
       "      <td>coZZ</td>\n",
       "      <td>@LOLTrish hey  long time no see! Yes.. Rains a...</td>\n",
       "    </tr>\n",
       "    <tr>\n",
       "      <th>7</th>\n",
       "      <td>0</td>\n",
       "      <td>1467811795</td>\n",
       "      <td>Mon Apr 06 22:20:05 PDT 2009</td>\n",
       "      <td>NO_QUERY</td>\n",
       "      <td>2Hood4Hollywood</td>\n",
       "      <td>@Tatiana_K nope they didn't have it</td>\n",
       "    </tr>\n",
       "    <tr>\n",
       "      <th>8</th>\n",
       "      <td>0</td>\n",
       "      <td>1467812025</td>\n",
       "      <td>Mon Apr 06 22:20:09 PDT 2009</td>\n",
       "      <td>NO_QUERY</td>\n",
       "      <td>mimismo</td>\n",
       "      <td>@twittera que me muera ?</td>\n",
       "    </tr>\n",
       "    <tr>\n",
       "      <th>9</th>\n",
       "      <td>0</td>\n",
       "      <td>1467812416</td>\n",
       "      <td>Mon Apr 06 22:20:16 PDT 2009</td>\n",
       "      <td>NO_QUERY</td>\n",
       "      <td>erinx3leannexo</td>\n",
       "      <td>spring break in plain city... it's snowing</td>\n",
       "    </tr>\n",
       "  </tbody>\n",
       "</table>\n",
       "</div>"
      ],
      "text/plain": [
       "   label        time                          date     query         username  \\\n",
       "0      0  1467810672  Mon Apr 06 22:19:49 PDT 2009  NO_QUERY    scotthamilton   \n",
       "1      0  1467810917  Mon Apr 06 22:19:53 PDT 2009  NO_QUERY         mattycus   \n",
       "2      0  1467811184  Mon Apr 06 22:19:57 PDT 2009  NO_QUERY          ElleCTF   \n",
       "3      0  1467811193  Mon Apr 06 22:19:57 PDT 2009  NO_QUERY           Karoli   \n",
       "4      0  1467811372  Mon Apr 06 22:20:00 PDT 2009  NO_QUERY         joy_wolf   \n",
       "5      0  1467811592  Mon Apr 06 22:20:03 PDT 2009  NO_QUERY          mybirch   \n",
       "6      0  1467811594  Mon Apr 06 22:20:03 PDT 2009  NO_QUERY             coZZ   \n",
       "7      0  1467811795  Mon Apr 06 22:20:05 PDT 2009  NO_QUERY  2Hood4Hollywood   \n",
       "8      0  1467812025  Mon Apr 06 22:20:09 PDT 2009  NO_QUERY          mimismo   \n",
       "9      0  1467812416  Mon Apr 06 22:20:16 PDT 2009  NO_QUERY   erinx3leannexo   \n",
       "\n",
       "                                                text  \n",
       "0  is upset that he can't update his Facebook by ...  \n",
       "1  @Kenichan I dived many times for the ball. Man...  \n",
       "2    my whole body feels itchy and like its on fire   \n",
       "3  @nationwideclass no, it's not behaving at all....  \n",
       "4                      @Kwesidei not the whole crew   \n",
       "5                                        Need a hug   \n",
       "6  @LOLTrish hey  long time no see! Yes.. Rains a...  \n",
       "7               @Tatiana_K nope they didn't have it   \n",
       "8                          @twittera que me muera ?   \n",
       "9        spring break in plain city... it's snowing   "
      ]
     },
     "execution_count": 3,
     "metadata": {},
     "output_type": "execute_result"
    }
   ],
   "source": [
    "dados.head(10)"
   ]
  },
  {
   "cell_type": "code",
   "execution_count": 4,
   "metadata": {},
   "outputs": [
    {
     "name": "stdout",
     "output_type": "stream",
     "text": [
      "Quantidade de instancias: 1599999\n"
     ]
    }
   ],
   "source": [
    "print('Quantidade de instancias:', len(dados))"
   ]
  },
  {
   "cell_type": "code",
   "execution_count": 5,
   "metadata": {},
   "outputs": [
    {
     "name": "stdout",
     "output_type": "stream",
     "text": [
      "<class 'pandas.core.frame.DataFrame'>\n",
      "RangeIndex: 1599999 entries, 0 to 1599998\n",
      "Data columns (total 6 columns):\n",
      "label       1599999 non-null int64\n",
      "time        1599999 non-null int64\n",
      "date        1599999 non-null object\n",
      "query       1599999 non-null object\n",
      "username    1599999 non-null object\n",
      "text        1599999 non-null object\n",
      "dtypes: int64(2), object(4)\n",
      "memory usage: 73.2+ MB\n"
     ]
    }
   ],
   "source": [
    "dados.info()"
   ]
  },
  {
   "cell_type": "code",
   "execution_count": 6,
   "metadata": {},
   "outputs": [
    {
     "data": {
      "text/plain": [
       "4    800000\n",
       "0    799999\n",
       "Name: label, dtype: int64"
      ]
     },
     "execution_count": 6,
     "metadata": {},
     "output_type": "execute_result"
    }
   ],
   "source": [
    "dados['label'].value_counts() \n",
    "# Apesar de conter 1,5 milhões de instancias, apenas 160 mil estao rotuladas com positivo ou negativo"
   ]
  },
  {
   "cell_type": "code",
   "execution_count": 7,
   "metadata": {},
   "outputs": [
    {
     "data": {
      "text/plain": [
       "[Text(0, 0, 'negativo'), Text(0, 0, 'positivo')]"
      ]
     },
     "execution_count": 7,
     "metadata": {},
     "output_type": "execute_result"
    },
    {
     "data": {
      "image/png": "[encoded data removed]",
      "text/plain": [
       "<Figure size 432x288 with 1 Axes>"
      ]
     },
     "metadata": {
      "image/png": {
       "height": 270,
       "width": 419
      },
      "needs_background": "light"
     },
     "output_type": "display_data"
    }
   ],
   "source": [
    "ax = sns.countplot(dados['label'])\n",
    "class_names = ['negativo', 'positivo']\n",
    "ax.set_xticklabels(class_names)"
   ]
  },
  {
   "cell_type": "code",
   "execution_count": 8,
   "metadata": {},
   "outputs": [
    {
     "data": {
      "text/plain": [
       "0"
      ]
     },
     "execution_count": 8,
     "metadata": {},
     "output_type": "execute_result"
    }
   ],
   "source": [
    "# Valores nulos\n",
    "np.sum(dados.isnull().any(axis=1))"
   ]
  },
  {
   "cell_type": "markdown",
   "metadata": {},
   "source": [
    "## Pre-processamento dos dados"
   ]
  },
  {
   "cell_type": "code",
   "execution_count": 9,
   "metadata": {},
   "outputs": [
    {
     "name": "stdout",
     "output_type": "stream",
     "text": [
      " Quantidade de dados positivos: 800000\n",
      " Quantidade de dados negativos: 799999\n"
     ]
    }
   ],
   "source": [
    "# Mudando o label dos positivos - de 4 para 1\n",
    "dados['label'][dados['label']==4]=1\n",
    "\n",
    "# Selecionado apenas os dados rotulados como positivo ou negativos - ignorando os dados não rotulados\n",
    "pos = dados[dados['label'] == 1]\n",
    "neg = dados[dados['label'] == 0]\n",
    "\n",
    "print(f' Quantidade de dados positivos: {len(pos)}\\n Quantidade de dados negativos: {len(neg)}')"
   ]
  },
  {
   "cell_type": "code",
   "execution_count": 10,
   "metadata": {},
   "outputs": [
    {
     "name": "stdout",
     "output_type": "stream",
     "text": [
      " Quantidade de dados positivos: 20000\n",
      " Quantidade de dados negativos: 20000\n"
     ]
    }
   ],
   "source": [
    "# Selecionando apenas 1/4 do conjunto de dados para diminuir tempo de treinamento dos modelos - Undersampling\n",
    "\n",
    "pos = pos.iloc[:int(20000)]\n",
    "neg = neg.iloc[:int(20000)]\n",
    "\n",
    "print(f' Quantidade de dados positivos: {len(pos)}\\n Quantidade de dados negativos: {len(neg)}')"
   ]
  },
  {
   "cell_type": "code",
   "execution_count": 11,
   "metadata": {},
   "outputs": [],
   "source": [
    "# Juntando dados positivos e negativos\n",
    "dados = pd.concat([pos, neg])\n",
    "\n",
    "# Selecionado apenas colunas com texto do tweet e seu rotulo\n",
    "dados=dados[['text','label']]"
   ]
  },
  {
   "cell_type": "markdown",
   "metadata": {},
   "source": [
    "### Limpandos os dados"
   ]
  },
  {
   "cell_type": "code",
   "execution_count": 12,
   "metadata": {},
   "outputs": [
    {
     "data": {
      "text/plain": [
       "799999          [I, LOVE, HealthUandPets, u, guys, r, best]\n",
       "800000    [im, meting, one, besties, tonight, Cant, wait...\n",
       "800001    [DaRealSunisaKim, Thanks, Twiter, ad, Sunisa, ...\n",
       "800002    [Being, sick, realy, cheap, hurts, much, eat, ...\n",
       "800003                      [LovesBroklyn, efect, everyone]\n",
       "Name: text, dtype: object"
      ]
     },
     "execution_count": 12,
     "metadata": {},
     "output_type": "execute_result"
    }
   ],
   "source": [
    "data = dados.copy()\n",
    "\n",
    "# Cleaning and removing the above stop words list from the tweet text\n",
    "\n",
    "STOPWORDS = set(stopwords.words('english')) # as palavras mais comuns da língua - \"i, me, my, myself, we, our, ours ...\n",
    "\n",
    "def cleaning_stopwords(text):\n",
    "    return \" \".join([word for word in str(text).split() if word not in STOPWORDS])\n",
    "\n",
    "data['text'] = data['text'].apply(lambda text: cleaning_stopwords(text))\n",
    "\n",
    "\n",
    "# Cleaning and removing punctuations\n",
    "\n",
    "english_punctuations = string.punctuation\n",
    "punctuations_list = english_punctuations\n",
    "\n",
    "def cleaning_punctuations(text):\n",
    "    translator = str.maketrans('', '', punctuations_list)\n",
    "    return text.translate(translator)\n",
    "\n",
    "data['text']= data['text'].apply(lambda x: cleaning_punctuations(x))\n",
    "\n",
    "# Cleaning and removing repeating characters\n",
    "\n",
    "def cleaning_repeating_char(text):\n",
    "    return re.sub(r'(.)\\1+', r'\\1', text)\n",
    "\n",
    "data['text'] = data['text'].apply(lambda x: cleaning_repeating_char(x))\n",
    "\n",
    "# Cleaning and removing email\n",
    "\n",
    "def cleaning_email(data):\n",
    "    return re.sub('@[^\\s]+', ' ', data)\n",
    "\n",
    "data['text']= data['text'].apply(lambda x: cleaning_email(x))\n",
    "\n",
    "# Cleaning and removing URL's\n",
    "\n",
    "def cleaning_URLs(data):\n",
    "    return re.sub('((www\\.[^\\s]+)|(https?://[^\\s]+))',' ',data)\n",
    "\n",
    "data['text'] = data['text'].apply(lambda x: cleaning_URLs(x))\n",
    "\n",
    "# Cleaning and removing Numeric numbers\n",
    "\n",
    "def cleaning_numbers(data):\n",
    "    return re.sub('[0-9]+', '', data)\n",
    "\n",
    "data['text'] = data['text'].apply(lambda x: cleaning_numbers(x))\n",
    "\n",
    "\n",
    "# Getting tokenization of tweet text\n",
    "\n",
    "tokenizer = RegexpTokenizer(r'\\w+')\n",
    "data['text'] = data['text'].apply(tokenizer.tokenize)\n",
    "\n",
    "\n",
    "# Applying Stemming -  reduzir palavras flexionadas\n",
    "\n",
    "st = nltk.PorterStemmer()\n",
    "def stemming_on_text(data):\n",
    "    text = [st.stem(word) for word in data]\n",
    "    return data\n",
    "\n",
    "data['text']= data['text'].apply(lambda x: stemming_on_text(x))\n",
    "\n",
    "# Applying Lemmatizer - agrupar as formas flexionadas de uma palavra para uma unica feature\n",
    "\n",
    "lm = nltk.WordNetLemmatizer()\n",
    "def lemmatizer_on_text(data):\n",
    "    text = [lm.lemmatize(word) for word in data]\n",
    "    return data\n",
    "\n",
    "data['text'] = data['text'].apply(lambda x: lemmatizer_on_text(x))\n",
    "\n",
    "\n",
    "data['text'].head()"
   ]
  },
  {
   "cell_type": "code",
   "execution_count": 13,
   "metadata": {},
   "outputs": [],
   "source": [
    "# Separando base de dados em treinamento e teste\n",
    "train, test = train_test_split(data, test_size=0.2, random_state=RANDOM_SEED)"
   ]
  },
  {
   "cell_type": "code",
   "execution_count": 14,
   "metadata": {},
   "outputs": [
    {
     "data": {
      "text/plain": [
       "((32000, 15000),\n",
       " ['A',\n",
       "  'AB',\n",
       "  'ABC',\n",
       "  'ABIBAN',\n",
       "  'ABLE',\n",
       "  'ABabyBlueEyes',\n",
       "  'AC',\n",
       "  'ACDC',\n",
       "  'AD',\n",
       "  'ADay',\n",
       "  'AFS',\n",
       "  'AFTER',\n",
       "  'AGAIN',\n",
       "  'AGES',\n",
       "  'AH',\n",
       "  'AI',\n",
       "  'AIM',\n",
       "  'AIR',\n",
       "  'AJ',\n",
       "  'AJQ',\n",
       "  'AKA',\n",
       "  'AL',\n",
       "  'ALF',\n",
       "  'ALMOST',\n",
       "  'ALONE',\n",
       "  'ALOT',\n",
       "  'ALREADY',\n",
       "  'ALTNET',\n",
       "  'ALWAYS',\n",
       "  'AM',\n",
       "  'AMAZING',\n",
       "  'AN',\n",
       "  'AND',\n",
       "  'ANOTHER',\n",
       "  'ANSWER',\n",
       "  'ANTM',\n",
       "  'ANWB',\n",
       "  'ANY',\n",
       "  'ANYTHING',\n",
       "  'ANYWHERE',\n",
       "  'AOL',\n",
       "  'AP',\n",
       "  'API',\n",
       "  'APRIL',\n",
       "  'ARE',\n",
       "  'ARENT',\n",
       "  'ARGH',\n",
       "  'AROUND',\n",
       "  'AS',\n",
       "  'ASAP',\n",
       "  'ASK',\n",
       "  'ASOT',\n",
       "  'AT',\n",
       "  'ATENTION',\n",
       "  'ATHF',\n",
       "  'ATI',\n",
       "  'ATL',\n",
       "  'ATM',\n",
       "  'ATampT',\n",
       "  'ATampTN',\n",
       "  'AUDIO',\n",
       "  'AUSTRIA',\n",
       "  'AW',\n",
       "  'AWAKE',\n",
       "  'AWAY',\n",
       "  'AWESOME',\n",
       "  'AZ',\n",
       "  'Aah',\n",
       "  'Aahwhat',\n",
       "  'AaliyahLove',\n",
       "  'Aand',\n",
       "  'Aaron',\n",
       "  'Aaw',\n",
       "  'Abers',\n",
       "  'Abey',\n",
       "  'Abie',\n",
       "  'AbieLeonaOx',\n",
       "  'About',\n",
       "  'Absolutely',\n",
       "  'Absolutly',\n",
       "  'Academy',\n",
       "  'Ace',\n",
       "  'Aces',\n",
       "  'Ack',\n",
       "  'Acording',\n",
       "  'Acounting',\n",
       "  'Acrobat',\n",
       "  'Acros',\n",
       "  'Acting',\n",
       "  'Actualy',\n",
       "  'Ad',\n",
       "  'Adam',\n",
       "  'Aday',\n",
       "  'Aded',\n",
       "  'Adelaide',\n",
       "  'Adobe',\n",
       "  'Adrian',\n",
       "  'Adriana',\n",
       "  'Ads',\n",
       "  'Adsense',\n",
       "  'Adventure',\n",
       "  'Advice',\n",
       "  'Afraid',\n",
       "  'Africa',\n",
       "  'Africans',\n",
       "  'After',\n",
       "  'Afternon',\n",
       "  'Again',\n",
       "  'Againquot',\n",
       "  'Age',\n",
       "  'Agre',\n",
       "  'Agred',\n",
       "  'Ah',\n",
       "  'Aha',\n",
       "  'Ai',\n",
       "  'Aight',\n",
       "  'Air',\n",
       "  'Airport',\n",
       "  'Al',\n",
       "  'Alabama',\n",
       "  'Alan',\n",
       "  'AlanCar',\n",
       "  'AlanGoesDMB',\n",
       "  'Alarm',\n",
       "  'Alas',\n",
       "  'Alaska',\n",
       "  'Alcohol',\n",
       "  'Alen',\n",
       "  'Alergies',\n",
       "  'Alex',\n",
       "  'AlexAlTimeLow',\n",
       "  'Alfie',\n",
       "  'Algebra',\n",
       "  'Ali',\n",
       "  'Aliance',\n",
       "  'Alice',\n",
       "  'Aliegatoru',\n",
       "  'Aliens',\n",
       "  'Alison',\n",
       "  'AlisonL',\n",
       "  'Almost',\n",
       "  'Alo',\n",
       "  'Alonso',\n",
       "  'Aloud',\n",
       "  'Already',\n",
       "  'Alright',\n",
       "  'Also',\n",
       "  'Although',\n",
       "  'Alton',\n",
       "  'AlvinGentry',\n",
       "  'Always',\n",
       "  'AlyAyr',\n",
       "  'AlysaMilano',\n",
       "  'Am',\n",
       "  'Amanda',\n",
       "  'Amarilo',\n",
       "  'Amazing',\n",
       "  'Amazon',\n",
       "  'Amber',\n",
       "  'Amen',\n",
       "  'America',\n",
       "  'American',\n",
       "  'Amos',\n",
       "  'Amsterdam',\n",
       "  'Amy',\n",
       "  'An',\n",
       "  'Ana',\n",
       "  'Analysing',\n",
       "  'Anastasia',\n",
       "  'Anatomy',\n",
       "  'And',\n",
       "  'Anderson',\n",
       "  'Andrea',\n",
       "  'AndrewRimer',\n",
       "  'Andrews',\n",
       "  'Android',\n",
       "  'Andy',\n",
       "  'Ane',\n",
       "  'Angel',\n",
       "  'Angela',\n",
       "  'Angels',\n",
       "  'Angie',\n",
       "  'Angus',\n",
       "  'Aniversary',\n",
       "  'Anonymous',\n",
       "  'Another',\n",
       "  'Answer',\n",
       "  'Anthony',\n",
       "  'Anticipating',\n",
       "  'Antonio',\n",
       "  'Any',\n",
       "  'Anybody',\n",
       "  'Anyone',\n",
       "  'Anything',\n",
       "  'Anytime',\n",
       "  'Anyway',\n",
       "  'Anyways',\n",
       "  'Anywho',\n",
       "  'Ap',\n",
       "  'Aparently'])"
      ]
     },
     "execution_count": 14,
     "metadata": {},
     "output_type": "execute_result"
    }
   ],
   "source": [
    "# Bag of words - cada tweet será representado como um multiconjunto de suas palavras (o \"saco\"), \n",
    "# desconsiderando a estrutura gramatical e a ordenação\n",
    "# A frequência de ocorrência de cada palavra é vista como uma característica utilizada para treinar o classificador.\n",
    "vectorizer = CountVectorizer(max_features=15000, tokenizer=lambda doc: doc, lowercase=False)\n",
    "\n",
    "X_tr = vectorizer.fit_transform(train['text'])\n",
    "y_tr = train['label']\n",
    "\n",
    "X_te = vectorizer.transform(test['text'])\n",
    "y_te = test['label']\n",
    "\n",
    "X_tr.shape, vectorizer.get_feature_names()[:200]"
   ]
  },
  {
   "cell_type": "code",
   "execution_count": 15,
   "metadata": {},
   "outputs": [],
   "source": [
    "# Separando base de dados em treinamento e teste\n",
    "df_train, df_test = train_test_split(dados, test_size=0.2, random_state=RANDOM_SEED)"
   ]
  },
  {
   "cell_type": "code",
   "execution_count": 16,
   "metadata": {},
   "outputs": [],
   "source": [
    "# CountVectorizer() converts a collection of text documents to a matrix of token counts\n",
    "vectorizer = CountVectorizer()\n",
    "\n",
    "# select the columns andprepare data for the models \n",
    "X_train = vectorizer.fit_transform(df_train['text'])\n",
    "y_train = df_train['label']\n",
    "\n",
    "X_test = vectorizer.transform(df_test['text'])\n",
    "y_test = df_test['label']"
   ]
  },
  {
   "cell_type": "code",
   "execution_count": 17,
   "metadata": {},
   "outputs": [
    {
     "name": "stdout",
     "output_type": "stream",
     "text": [
      "Tamanho dos dados vetorizados: (32000, 40350)\n",
      "Algumas das Features Textuais: ['00', '000', '0000', '0007', '000kg', '002', '00am', '00pm', '01', '01000101', '01614948343', '018', '02', '026', '02am', '03', '04', '05', '0515', '05am', '05iphone', '05pm', '06', '06bjn', '06fd3', '06fuj', '06pm', '07', '0730', '0752', '07am', '07raus09', '08', '08am', '09', '090406', '09pm', '0b2', '0boy', '0cxz', '0e4ad48a87bd4c0593931f6a4f652aef', '0g', '0h', '0l4ygj', '0mg', '0mgiitzree', '0mie', '0n', '0nkprb9xxls', '0p5', '0p8', '0r', '0xdeadbeef', '10', '100', '1000', '10000', '1000000', '1000cigarettes', '1000fps', '1000th', '1001', '100mb', '100meg', '100miler', '100plus', '100th', '100to', '101', '1010ï', '1012', '101th', '102', '103', '1043840', '105', '10570', '105f', '106', '1066', '1069', '108', '1080p', '1099', '10am', '10hrs', '10lbs', '10mbps', '10min', '10p', '10pack', '10pm', '10pt', '10s', '10th', '10x', '10yrs', '10ï', '11', '110', '1100', '1100dls', '1101', '111', '1110', '111adam', '112', '112915560', '113', '115', '116', '117', '118', '118398460', '119ï', '11am', '11ish', '11k', '11m', '11p', '11pm', '11s', '11th', '11x17', '12', '120', '1200', '1206', '120x160', '120x240', '121866', '122', '12298', '1229time', '1230', '1234', '123456', '125', '1280x760', '12839105', '129', '12a04f12b7524534b0275a0ab5fcab9e', '12am', '12er', '12hrs', '12k', '12lb', '12m', '12mn', '12mos', '12p', '12player', '12pm', '12seconds', '12th', '12v', '13', '130', '1300', '130mb', '130pm', '132', '132am', '133', '1330', '13328', '133326', '1337', '134', '137', '13720', '1384785', '138886', '139', '13hr', '13qwmv', '13th', '13vpz', '14', '140', '140conf', '140pm', '14177', '143', '144', '1443', '145', '1463411617', '1464079123', '1468042230', '1468051190', '1468122665', '1468183212', '1468589659', '149', '1496429', '1498650', '14th', '14yrs', '15']\n"
     ]
    }
   ],
   "source": [
    "print('Tamanho dos dados vetorizados:', X_train.shape)\n",
    "print('Algumas das Features Textuais:', vectorizer.get_feature_names()[:200])"
   ]
  },
  {
   "cell_type": "markdown",
   "metadata": {},
   "source": [
    "### Construindo Classificadores"
   ]
  },
  {
   "cell_type": "markdown",
   "metadata": {},
   "source": [
    "#### Logistic Regression"
   ]
  },
  {
   "cell_type": "code",
   "execution_count": 18,
   "metadata": {},
   "outputs": [
    {
     "name": "stdout",
     "output_type": "stream",
     "text": [
      "Tempo de Treinamento:  0:00:04.790745\n"
     ]
    },
    {
     "data": {
      "text/html": [
       "<div>\n",
       "<style scoped>\n",
       "    .dataframe tbody tr th:only-of-type {\n",
       "        vertical-align: middle;\n",
       "    }\n",
       "\n",
       "    .dataframe tbody tr th {\n",
       "        vertical-align: top;\n",
       "    }\n",
       "\n",
       "    .dataframe thead th {\n",
       "        text-align: right;\n",
       "    }\n",
       "</style>\n",
       "<table border=\"1\" class=\"dataframe\">\n",
       "  <thead>\n",
       "    <tr style=\"text-align: right;\">\n",
       "      <th></th>\n",
       "      <th>params</th>\n",
       "      <th>mean_test_score</th>\n",
       "    </tr>\n",
       "  </thead>\n",
       "  <tbody>\n",
       "    <tr>\n",
       "      <th>0</th>\n",
       "      <td>{'C': 0.001}</td>\n",
       "      <td>0.629344</td>\n",
       "    </tr>\n",
       "    <tr>\n",
       "      <th>1</th>\n",
       "      <td>{'C': 0.01}</td>\n",
       "      <td>0.703344</td>\n",
       "    </tr>\n",
       "    <tr>\n",
       "      <th>2</th>\n",
       "      <td>{'C': 0.1}</td>\n",
       "      <td>0.741375</td>\n",
       "    </tr>\n",
       "    <tr>\n",
       "      <th>3</th>\n",
       "      <td>{'C': 1}</td>\n",
       "      <td>0.743594</td>\n",
       "    </tr>\n",
       "  </tbody>\n",
       "</table>\n",
       "</div>"
      ],
      "text/plain": [
       "         params  mean_test_score\n",
       "0  {'C': 0.001}         0.629344\n",
       "1   {'C': 0.01}         0.703344\n",
       "2    {'C': 0.1}         0.741375\n",
       "3      {'C': 1}         0.743594"
      ]
     },
     "execution_count": 18,
     "metadata": {},
     "output_type": "execute_result"
    }
   ],
   "source": [
    "lr = GridSearchCV(LogisticRegression(random_state=RANDOM_SEED), {\n",
    "    'C' : [0.001, 0.01, 0.1, 1],\n",
    "    },\n",
    "    cv=5,\n",
    "    return_train_score=False,\n",
    ")\n",
    "\n",
    "start=dt.datetime.now()\n",
    "lr.fit(X_tr,y_tr)\n",
    "print('Tempo de Treinamento: ',str(dt.datetime.now()-start))\n",
    "\n",
    "LR_models = pd.DataFrame(lr.cv_results_)\n",
    "LR_models = LR_models[['params', 'mean_test_score']]\n",
    "LR_models"
   ]
  },
  {
   "cell_type": "markdown",
   "metadata": {},
   "source": [
    "#### Naive Bayes"
   ]
  },
  {
   "cell_type": "code",
   "execution_count": 19,
   "metadata": {},
   "outputs": [
    {
     "name": "stdout",
     "output_type": "stream",
     "text": [
      "Tempo de Treinamento:  0:00:00.147545\n"
     ]
    },
    {
     "data": {
      "text/html": [
       "<div>\n",
       "<style scoped>\n",
       "    .dataframe tbody tr th:only-of-type {\n",
       "        vertical-align: middle;\n",
       "    }\n",
       "\n",
       "    .dataframe tbody tr th {\n",
       "        vertical-align: top;\n",
       "    }\n",
       "\n",
       "    .dataframe thead th {\n",
       "        text-align: right;\n",
       "    }\n",
       "</style>\n",
       "<table border=\"1\" class=\"dataframe\">\n",
       "  <thead>\n",
       "    <tr style=\"text-align: right;\">\n",
       "      <th></th>\n",
       "      <th>params</th>\n",
       "      <th>mean_test_score</th>\n",
       "    </tr>\n",
       "  </thead>\n",
       "  <tbody>\n",
       "    <tr>\n",
       "      <th>0</th>\n",
       "      <td>{'alpha': 0.1}</td>\n",
       "      <td>0.716812</td>\n",
       "    </tr>\n",
       "    <tr>\n",
       "      <th>1</th>\n",
       "      <td>{'alpha': 1}</td>\n",
       "      <td>0.738594</td>\n",
       "    </tr>\n",
       "    <tr>\n",
       "      <th>2</th>\n",
       "      <td>{'alpha': 5}</td>\n",
       "      <td>0.741062</td>\n",
       "    </tr>\n",
       "  </tbody>\n",
       "</table>\n",
       "</div>"
      ],
      "text/plain": [
       "           params  mean_test_score\n",
       "0  {'alpha': 0.1}         0.716812\n",
       "1    {'alpha': 1}         0.738594\n",
       "2    {'alpha': 5}         0.741062"
      ]
     },
     "execution_count": 19,
     "metadata": {},
     "output_type": "execute_result"
    }
   ],
   "source": [
    "# The multinomial Naive Bayes classifier is suitable for classification with discrete features \n",
    "# (e.g., word counts for text classification). \n",
    "# The multinomial distribution normally requires integer feature counts.\n",
    "\n",
    "\n",
    "nb = GridSearchCV(MultinomialNB(), {\n",
    "    'alpha' : [0.1, 1, 5],\n",
    "    },\n",
    "    cv=5,\n",
    "    return_train_score=False,\n",
    ")\n",
    "\n",
    "start=dt.datetime.now()\n",
    "nb.fit(X_tr,y_tr)\n",
    "print('Tempo de Treinamento: ',str(dt.datetime.now()-start))\n",
    "\n",
    "NB_models = pd.DataFrame(nb.cv_results_)\n",
    "NB_models[['params', 'mean_test_score']]"
   ]
  },
  {
   "cell_type": "markdown",
   "metadata": {},
   "source": [
    "#### Random Forest"
   ]
  },
  {
   "cell_type": "code",
   "execution_count": 20,
   "metadata": {},
   "outputs": [
    {
     "name": "stdout",
     "output_type": "stream",
     "text": [
      "Tempo de Treinamento:  0:01:26.329393\n"
     ]
    },
    {
     "data": {
      "text/plain": [
       "0.75875"
      ]
     },
     "execution_count": 20,
     "metadata": {},
     "output_type": "execute_result"
    }
   ],
   "source": [
    "rf = RandomForestClassifier(random_state=RANDOM_SEED)\n",
    "start=dt.datetime.now()\n",
    "rf.fit(X_train,y_train)\n",
    "print('Tempo de Treinamento: ',str(dt.datetime.now()-start))\n",
    "accuracy_score(y_test, rf.predict(X_test))"
   ]
  },
  {
   "cell_type": "markdown",
   "metadata": {},
   "source": [
    "#### Neural Network (MLP)"
   ]
  },
  {
   "cell_type": "code",
   "execution_count": 21,
   "metadata": {},
   "outputs": [
    {
     "name": "stdout",
     "output_type": "stream",
     "text": [
      "Tempo de Treinamento:  0:11:11.684906\n"
     ]
    },
    {
     "data": {
      "text/plain": [
       "0.722"
      ]
     },
     "execution_count": 21,
     "metadata": {},
     "output_type": "execute_result"
    }
   ],
   "source": [
    "mlp = MLPClassifier(random_state=RANDOM_SEED)\n",
    "start=dt.datetime.now()\n",
    "mlp.fit(X_tr,y_tr)\n",
    "print('Tempo de Treinamento: ',str(dt.datetime.now()-start))\n",
    "accuracy_score(y_te, mlp.predict(X_te))"
   ]
  },
  {
   "cell_type": "markdown",
   "metadata": {},
   "source": [
    "### Matriz de Confusão"
   ]
  },
  {
   "cell_type": "code",
   "execution_count": 46,
   "metadata": {},
   "outputs": [
    {
     "data": {
      "image/png": "[encoded data removed]",
      "text/plain": [
       "<Figure size 1080x864 with 4 Axes>"
      ]
     },
     "metadata": {
      "image/png": {
       "height": 774,
       "width": 872
      },
      "needs_background": "light"
     },
     "output_type": "display_data"
    }
   ],
   "source": [
    "# Melhores modelos para cada classificador:\n",
    "lr_cm=confusion_matrix(y_te.values, lr.predict(X_te))\n",
    "nb_cm=confusion_matrix(y_te.values, nb.predict(X_te))\n",
    "rf_cm=confusion_matrix(y_test.values, rf.predict(X_test))\n",
    "mlp_cm=confusion_matrix(y_te.values, mlp.predict(X_te))\n",
    "\n",
    "plt.figure(figsize=(15,12))\n",
    "plt.suptitle(\"Confusion Matrices\",fontsize=24)\n",
    "\n",
    "plt.subplot(2,2,1)\n",
    "plt.title(\"Logistic Regression\")\n",
    "sns.heatmap(lr_cm, annot = True, fmt=\"d\", cmap=\"Greens\",cbar=False);\n",
    "\n",
    "plt.subplot(2,2,2)\n",
    "plt.title(\"Naive Bayes\")\n",
    "sns.heatmap(nb_cm, annot = True, fmt=\"d\", cmap=\"Greens\",cbar=False);\n",
    "\n",
    "plt.subplot(2,2,3)\n",
    "plt.title(\"Random Forest\")\n",
    "sns.heatmap(rf_cm, annot = True, fmt=\"d\", cmap=\"Greens\",cbar=False);\n",
    "\n",
    "plt.subplot(2,2,4)\n",
    "plt.title(\"Neural Network\")\n",
    "sns.heatmap(mlp_cm, annot = True, fmt=\"d\", cmap=\"Greens\",cbar=False);"
   ]
  },
  {
   "cell_type": "code",
   "execution_count": 47,
   "metadata": {},
   "outputs": [
    {
     "name": "stdout",
     "output_type": "stream",
     "text": [
      "Logistic Regression\n",
      "              precision    recall  f1-score   support\n",
      "\n",
      "           0       0.76      0.73      0.74      3996\n",
      "           1       0.74      0.77      0.75      4004\n",
      "\n",
      "    accuracy                           0.75      8000\n",
      "   macro avg       0.75      0.75      0.75      8000\n",
      "weighted avg       0.75      0.75      0.75      8000\n",
      "\n",
      "\n",
      " Naive Bayes\n",
      "              precision    recall  f1-score   support\n",
      "\n",
      "           0       0.73      0.79      0.76      3996\n",
      "           1       0.77      0.71      0.74      4004\n",
      "\n",
      "    accuracy                           0.75      8000\n",
      "   macro avg       0.75      0.75      0.75      8000\n",
      "weighted avg       0.75      0.75      0.75      8000\n",
      "\n",
      "\n",
      " Random Forest\n",
      "              precision    recall  f1-score   support\n",
      "\n",
      "           0       0.75      0.78      0.76      3996\n",
      "           1       0.77      0.74      0.75      4004\n",
      "\n",
      "    accuracy                           0.76      8000\n",
      "   macro avg       0.76      0.76      0.76      8000\n",
      "weighted avg       0.76      0.76      0.76      8000\n",
      "\n",
      "\n",
      " Neural Network\n",
      "              precision    recall  f1-score   support\n",
      "\n",
      "           0       0.72      0.73      0.72      3996\n",
      "           1       0.73      0.72      0.72      4004\n",
      "\n",
      "    accuracy                           0.72      8000\n",
      "   macro avg       0.72      0.72      0.72      8000\n",
      "weighted avg       0.72      0.72      0.72      8000\n",
      "\n"
     ]
    }
   ],
   "source": [
    "print(\"Logistic Regression\")\n",
    "print(mt.classification_report(y_te, lr.predict(X_te)))\n",
    "print(\"\\n Naive Bayes\")\n",
    "print(mt.classification_report(y_te, nb.predict(X_te)))\n",
    "print(\"\\n Random Forest\")\n",
    "print(mt.classification_report(y_test, rf.predict(X_test)))\n",
    "print(\"\\n Neural Network\")\n",
    "print(mt.classification_report(y_te, mlp.predict(X_te)))"
   ]
  },
  {
   "cell_type": "markdown",
   "metadata": {},
   "source": [
    "### Construindo classificador de sentimento com BERT e PyTorch"
   ]
  },
  {
   "cell_type": "code",
   "execution_count": 24,
   "metadata": {},
   "outputs": [
    {
     "name": "stdout",
     "output_type": "stream",
     "text": [
      " Quantidade de dados positivos: 2000\n",
      " Quantidade de dados negativos: 2000\n"
     ]
    }
   ],
   "source": [
    "# Selecionando apenas 1/4 do conjunto de dados para diminuir tempo de treinamento dos modelos - Undersampling\n",
    "\n",
    "pos = pos.iloc[:int(2000)]\n",
    "neg = neg.iloc[:int(2000)]\n",
    "\n",
    "print(f' Quantidade de dados positivos: {len(pos)}\\n Quantidade de dados negativos: {len(neg)}')\n",
    "\n",
    "# Juntando dados positivos e negativos\n",
    "dados = pd.concat([pos, neg])\n",
    "\n",
    "# Selecionado apenas colunas com texto do tweet e seu rotulo\n",
    "dados=dados[['text','label']]"
   ]
  },
  {
   "cell_type": "code",
   "execution_count": 25,
   "metadata": {},
   "outputs": [],
   "source": [
    "# Separando base de dados em treinamento e teste\n",
    "df_train, df_test = train_test_split(dados, test_size=0.2, random_state=RANDOM_SEED)\n",
    "\n",
    "# Separando conjunto de teste em teste/validacao\n",
    "df_test_BERT, df_eval_BERT = train_test_split(df_test, test_size=0.5, random_state=RANDOM_SEED)\n",
    "\n",
    "device = torch.device(\"cuda:0\" if torch.cuda.is_available() else \"cpu\")"
   ]
  },
  {
   "cell_type": "code",
   "execution_count": 26,
   "metadata": {},
   "outputs": [
    {
     "name": "stdout",
     "output_type": "stream",
     "text": [
      "Texto: im meeting up with one of my besties tonight! Cant wait!!  - GIRL TALK!!\n",
      "\n",
      "Tokens: ['im', 'meeting', 'up', 'with', 'one', 'of', 'my', 'best', '##ies', 'tonight', '!', 'Can', '##t', 'wait', '!', '!', '-', 'G', '##IR', '##L', 'T', '##AL', '##K', '!', '!']\n",
      "\n",
      "Token IDs: [13280, 2309, 1146, 1114, 1141, 1104, 1139, 1436, 1905, 3568, 106, 2825, 1204, 3074, 106, 106, 118, 144, 18172, 2162, 157, 12507, 2428, 106, 106]\n"
     ]
    }
   ],
   "source": [
    "# Exemplo Tokenizador BERT\n",
    "\n",
    "# tokenizador do BERT\n",
    "tokenizer = BertTokenizer.from_pretrained('bert-base-cased')\n",
    "\n",
    "# pegando um exemplo do dataset\n",
    "txt_amostra = dados['text'].iloc[1]\n",
    "\n",
    "tokens = tokenizer.tokenize(txt_amostra)\n",
    "token_ids = tokenizer.convert_tokens_to_ids(tokens)\n",
    "\n",
    "print(f'Texto: {txt_amostra}\\n')\n",
    "print(f'Tokens: {tokens}\\n')\n",
    "print(f'Token IDs: {token_ids}')"
   ]
  },
  {
   "cell_type": "code",
   "execution_count": 27,
   "metadata": {},
   "outputs": [
    {
     "name": "stderr",
     "output_type": "stream",
     "text": [
      "Truncation was not explicitly activated but `max_length` is provided a specific value, please use `truncation=True` to explicitly truncate examples to max length. Defaulting to 'longest_first' truncation strategy. If you encode pairs of sequences (GLUE-style) with the tokenizer you can select this strategy more precisely by providing a specific strategy to `truncation`.\n"
     ]
    },
    {
     "data": {
      "text/plain": [
       "<matplotlib.axes._subplots.AxesSubplot at 0x1b64464a20>"
      ]
     },
     "execution_count": 27,
     "metadata": {},
     "output_type": "execute_result"
    },
    {
     "data": {
      "image/png": "[encoded data removed]",
      "text/plain": [
       "<Figure size 432x288 with 1 Axes>"
      ]
     },
     "metadata": {
      "image/png": {
       "height": 253,
       "width": 391
      },
      "needs_background": "light"
     },
     "output_type": "display_data"
    }
   ],
   "source": [
    "# Distribuiçao do tamanho dos tweets - sequence lenght - importante para criacao dos modelos\n",
    "\n",
    "tokenizer = BertTokenizer.from_pretrained('bert-base-cased')\n",
    "\n",
    "tokens_lens = []\n",
    "for txt in dados['text']:\n",
    "    tokens = tokenizer.encode(txt, max_length=512)\n",
    "    tokens_lens.append(len(tokens))\n",
    "\n",
    "sns.distplot(tokens_lens)"
   ]
  },
  {
   "cell_type": "code",
   "execution_count": 28,
   "metadata": {},
   "outputs": [],
   "source": [
    "max_seq_length = 70"
   ]
  },
  {
   "cell_type": "code",
   "execution_count": 29,
   "metadata": {},
   "outputs": [],
   "source": [
    "class GPReviewDataset(Dataset):\n",
    "\n",
    "    def __init__(self, tweets, targets, tokenizer, max_len):\n",
    "        self.tweets = tweets\n",
    "        self.targets = targets\n",
    "        self.tokenizer = tokenizer\n",
    "        self.max_len = max_len\n",
    "  \n",
    "    def __len__(self):\n",
    "        return len(self.tweets)\n",
    "  \n",
    "    def __getitem__(self, item):\n",
    "        tweet = str(self.tweets[item])\n",
    "        target = self.targets[item]\n",
    "\n",
    "        encoding = self.tokenizer.encode_plus(\n",
    "          tweet,\n",
    "          add_special_tokens=True,\n",
    "          max_length=self.max_len,\n",
    "          return_token_type_ids=False,\n",
    "          pad_to_max_length=True,\n",
    "          return_attention_mask=True,\n",
    "          return_tensors='pt',\n",
    "        )\n",
    "\n",
    "        return {\n",
    "          'review_text': tweet,\n",
    "          'input_ids': encoding['input_ids'].flatten(),\n",
    "          'attention_mask': encoding['attention_mask'].flatten(),\n",
    "          'targets': torch.tensor(target, dtype=torch.long)\n",
    "        }"
   ]
  },
  {
   "cell_type": "code",
   "execution_count": 30,
   "metadata": {},
   "outputs": [],
   "source": [
    "df = GPReviewDataset(\n",
    "    tweets=df_train['text'].to_numpy(),\n",
    "    targets=df_train['label'].to_numpy(),\n",
    "    tokenizer=tokenizer,\n",
    "    max_len=max_seq_length\n",
    "  )"
   ]
  },
  {
   "cell_type": "code",
   "execution_count": 31,
   "metadata": {},
   "outputs": [],
   "source": [
    "def create_data_loader(df, tokenizer, max_len, batch_size):\n",
    "    ds = GPReviewDataset(\n",
    "        tweets=df['text'].to_numpy(),\n",
    "        targets=df['label'].to_numpy(),\n",
    "        tokenizer=tokenizer,\n",
    "        max_len=max_len\n",
    "      )\n",
    "\n",
    "    return DataLoader(\n",
    "        ds,\n",
    "        batch_size=batch_size,\n",
    "        num_workers=4,\n",
    "        shuffle=True\n",
    "      )"
   ]
  },
  {
   "cell_type": "code",
   "execution_count": 32,
   "metadata": {},
   "outputs": [],
   "source": [
    "BATCH_SIZE = 32\n",
    "\n",
    "train_data_loader = create_data_loader(df_train, tokenizer, max_seq_length, BATCH_SIZE)\n",
    "val_data_loader = create_data_loader(df_eval_BERT, tokenizer, max_seq_length, BATCH_SIZE)\n",
    "test_data_loader = create_data_loader(df_test_BERT, tokenizer, max_seq_length, BATCH_SIZE)"
   ]
  },
  {
   "cell_type": "code",
   "execution_count": 33,
   "metadata": {},
   "outputs": [
    {
     "data": {
      "text/plain": [
       "dict_keys(['review_text', 'input_ids', 'attention_mask', 'targets'])"
      ]
     },
     "execution_count": 33,
     "metadata": {},
     "output_type": "execute_result"
    }
   ],
   "source": [
    "data = next(iter(train_data_loader))\n",
    "data.keys()"
   ]
  },
  {
   "cell_type": "code",
   "execution_count": 34,
   "metadata": {},
   "outputs": [
    {
     "name": "stdout",
     "output_type": "stream",
     "text": [
      "torch.Size([32, 70])\n",
      "torch.Size([32, 70])\n",
      "torch.Size([32])\n"
     ]
    }
   ],
   "source": [
    "print(data['input_ids'].shape)\n",
    "print(data['attention_mask'].shape)\n",
    "print(data['targets'].shape)"
   ]
  },
  {
   "cell_type": "code",
   "execution_count": 35,
   "metadata": {},
   "outputs": [],
   "source": [
    "bert_model = BertModel.from_pretrained('bert-base-cased')\n",
    "\n",
    "class SentimentClassifier(nn.Module):\n",
    "\n",
    "    def __init__(self, n_classes):\n",
    "        super(SentimentClassifier, self).__init__()\n",
    "        self.bert = BertModel.from_pretrained('bert-base-cased')\n",
    "        self.drop = nn.Dropout(p=0.2)\n",
    "        self.out = nn.Linear(self.bert.config.hidden_size, n_classes)\n",
    "  \n",
    "    def forward(self, input_ids, attention_mask):\n",
    "        tuple_output = self.bert(\n",
    "          input_ids=input_ids,\n",
    "          attention_mask=attention_mask\n",
    "        )\n",
    "        \n",
    "        pooled_output = tuple_output[1]\n",
    "        \n",
    "        output = self.drop(pooled_output)\n",
    "        return self.out(output)"
   ]
  },
  {
   "cell_type": "code",
   "execution_count": 36,
   "metadata": {},
   "outputs": [],
   "source": [
    "model = SentimentClassifier(2)"
   ]
  },
  {
   "cell_type": "code",
   "execution_count": 37,
   "metadata": {},
   "outputs": [],
   "source": [
    "def train_epoch(model, data_loader, loss_fn, optimizer, device, scheduler, n_examples):\n",
    "    model = model.train()\n",
    "    \n",
    "    losses = []\n",
    "    correct_predictions = 0\n",
    "  \n",
    "    for d in data_loader:\n",
    "        input_ids = d[\"input_ids\"]\n",
    "        attention_mask = d[\"attention_mask\"]\n",
    "        targets = d[\"targets\"]\n",
    "        \n",
    "        outputs = model(\n",
    "          input_ids=input_ids,\n",
    "          attention_mask=attention_mask\n",
    "        )\n",
    "\n",
    "        _, preds = torch.max(outputs, dim=1)\n",
    "        loss = loss_fn(outputs, targets)\n",
    "\n",
    "        correct_predictions += torch.sum(preds == targets)\n",
    "        losses.append(loss.item())\n",
    "\n",
    "        loss.backward()\n",
    "        nn.utils.clip_grad_norm_(model.parameters(), max_norm=1.0)\n",
    "        optimizer.step()\n",
    "        scheduler.step()\n",
    "        optimizer.zero_grad()\n",
    "\n",
    "    return correct_predictions.double() / n_examples, np.mean(losses)"
   ]
  },
  {
   "cell_type": "code",
   "execution_count": 38,
   "metadata": {},
   "outputs": [],
   "source": [
    "def eval_model(model, data_loader, loss_fn, device, n_examples):\n",
    "    model = model.eval()\n",
    "\n",
    "    losses = []\n",
    "    correct_predictions = 0\n",
    "\n",
    "    with torch.no_grad():\n",
    "        for d in data_loader:\n",
    "            input_ids = d[\"input_ids\"]\n",
    "            attention_mask = d[\"attention_mask\"]\n",
    "            targets = d[\"targets\"]\n",
    "\n",
    "            outputs = model(\n",
    "              input_ids=input_ids,\n",
    "              attention_mask=attention_mask\n",
    "            )\n",
    "            _, preds = torch.max(outputs, dim=1)\n",
    "            \n",
    "            loss = loss_fn(outputs, targets)\n",
    "            \n",
    "            correct_predictions += torch.sum(preds == targets)\n",
    "            losses.append(loss.item())\n",
    "\n",
    "        return correct_predictions.double() / n_examples, np.mean(losses)"
   ]
  },
  {
   "cell_type": "code",
   "execution_count": 39,
   "metadata": {},
   "outputs": [
    {
     "name": "stdout",
     "output_type": "stream",
     "text": [
      "CPU times: user 2 µs, sys: 1e+03 ns, total: 3 µs\n",
      "Wall time: 5.96 µs\n",
      "Epoch 1/2\n",
      "----------\n",
      "Train loss 0.5578719902038575 accuracy 0.721875\n",
      "Val loss 0.5154301271988795 accuracy 0.77\n",
      "\n",
      "Epoch 2/2\n",
      "----------\n",
      "Train loss 0.28889225717633965 accuracy 0.890625\n",
      "Val loss 0.5571590753702017 accuracy 0.7725\n",
      "\n"
     ]
    }
   ],
   "source": [
    "EPOCHS = 2\n",
    "\n",
    "optimizer = AdamW(model.parameters(), lr=3e-5, correct_bias=False)\n",
    "total_steps = len(train_data_loader) * EPOCHS\n",
    "\n",
    "scheduler = get_linear_schedule_with_warmup(\n",
    "  optimizer,\n",
    "  num_warmup_steps=0,\n",
    "  num_training_steps=total_steps\n",
    ")\n",
    "\n",
    "loss_fn = nn.CrossEntropyLoss()\n",
    "\n",
    "%time\n",
    "\n",
    "history = defaultdict(list)\n",
    "best_accuracy = 0\n",
    "\n",
    "for epoch in range(EPOCHS):\n",
    "\n",
    "    print(f'Epoch {epoch + 1}/{EPOCHS}')\n",
    "    print('-' * 10)\n",
    "\n",
    "    train_acc, train_loss = train_epoch(\n",
    "      model,\n",
    "      train_data_loader,    \n",
    "      loss_fn, \n",
    "      optimizer, \n",
    "      device, \n",
    "      scheduler, \n",
    "      len(df_train)\n",
    "    )\n",
    "\n",
    "    print(f'Train loss {train_loss} accuracy {train_acc}')\n",
    "\n",
    "    val_acc, val_loss = eval_model(\n",
    "      model,\n",
    "      val_data_loader,\n",
    "      loss_fn, \n",
    "      device, \n",
    "      len(df_eval_BERT)\n",
    "    )\n",
    "\n",
    "    print(f'Val loss {val_loss} accuracy {val_acc}')\n",
    "    print()\n",
    "\n",
    "    history['train_acc'].append(train_acc)\n",
    "    history['train_loss'].append(train_loss)\n",
    "    history['val_acc'].append(val_acc)\n",
    "    history['val_loss'].append(val_loss)\n",
    "\n",
    "    if val_acc > best_accuracy:\n",
    "        torch.save(model.state_dict(), f'best_model_state.bin')\n",
    "        best_accuracy = val_acc"
   ]
  },
  {
   "cell_type": "code",
   "execution_count": null,
   "metadata": {},
   "outputs": [],
   "source": []
  },
  {
   "cell_type": "markdown",
   "metadata": {},
   "source": [
    "### Construindo Classificador de sentimento com BERT - simpletransformers"
   ]
  },
  {
   "cell_type": "code",
   "execution_count": 40,
   "metadata": {},
   "outputs": [
    {
     "name": "stdout",
     "output_type": "stream",
     "text": [
      " Quantidade de dados positivos: 2000\n",
      " Quantidade de dados negativos: 2000\n"
     ]
    }
   ],
   "source": [
    "# Selecionando apenas 1/40 do conjunto de dados para diminuir tempo de treinamento dos modelos - Undersampling\n",
    "\n",
    "pos = pos.iloc[:int(2000)]\n",
    "neg = neg.iloc[:int(2000)]\n",
    "\n",
    "print(f' Quantidade de dados positivos: {len(pos)}\\n Quantidade de dados negativos: {len(neg)}')\n",
    "\n",
    "# Juntando dados positivos e negativos\n",
    "dados = pd.concat([pos, neg])\n",
    "\n",
    "# Selecionado apenas colunas com texto do tweet e seu rotulo\n",
    "dados=dados[['text','label']]"
   ]
  },
  {
   "cell_type": "code",
   "execution_count": 41,
   "metadata": {},
   "outputs": [],
   "source": [
    "# Separando base de dados em treinamento e teste\n",
    "df_train, df_test = train_test_split(dados, test_size=0.2, random_state=RANDOM_SEED)"
   ]
  },
  {
   "cell_type": "code",
   "execution_count": 42,
   "metadata": {},
   "outputs": [
    {
     "data": {
      "text/plain": [
       "(3200, 800)"
      ]
     },
     "execution_count": 42,
     "metadata": {},
     "output_type": "execute_result"
    }
   ],
   "source": [
    "len(df_train), len(df_test)"
   ]
  },
  {
   "cell_type": "code",
   "execution_count": 43,
   "metadata": {},
   "outputs": [
    {
     "name": "stderr",
     "output_type": "stream",
     "text": [
      "Some weights of the model checkpoint at bert-base-cased were not used when initializing BertForSequenceClassification: ['cls.predictions.bias', 'cls.predictions.transform.dense.weight', 'cls.predictions.transform.dense.bias', 'cls.predictions.decoder.weight', 'cls.seq_relationship.weight', 'cls.seq_relationship.bias', 'cls.predictions.transform.LayerNorm.weight', 'cls.predictions.transform.LayerNorm.bias']\n",
      "- This IS expected if you are initializing BertForSequenceClassification from the checkpoint of a model trained on another task or with another architecture (e.g. initializing a BertForSequenceClassification model from a BertForPreTraining model).\n",
      "- This IS NOT expected if you are initializing BertForSequenceClassification from the checkpoint of a model that you expect to be exactly identical (initializing a BertForSequenceClassification model from a BertForSequenceClassification model).\n",
      "Some weights of BertForSequenceClassification were not initialized from the model checkpoint at bert-base-cased and are newly initialized: ['classifier.weight', 'classifier.bias']\n",
      "You should probably TRAIN this model on a down-stream task to be able to use it for predictions and inference.\n"
     ]
    },
    {
     "data": {
      "application/vnd.jupyter.widget-view+json": {
       "model_id": "033da69b60584e979f657b1bf6b5aca2",
       "version_major": 2,
       "version_minor": 0
      },
      "text/plain": [
       "  0%|          | 0/7 [00:00<?, ?it/s]"
      ]
     },
     "metadata": {},
     "output_type": "display_data"
    },
    {
     "data": {
      "application/vnd.jupyter.widget-view+json": {
       "model_id": "3fd2d796c55749eda25df86ba5de41e8",
       "version_major": 2,
       "version_minor": 0
      },
      "text/plain": [
       "Epoch:   0%|          | 0/1 [00:00<?, ?it/s]"
      ]
     },
     "metadata": {},
     "output_type": "display_data"
    },
    {
     "data": {
      "application/vnd.jupyter.widget-view+json": {
       "model_id": "a2c5cb8e63764a7daea429bc5584614f",
       "version_major": 2,
       "version_minor": 0
      },
      "text/plain": [
       "Running Epoch 0 of 1:   0%|          | 0/100 [00:00<?, ?it/s]"
      ]
     },
     "metadata": {},
     "output_type": "display_data"
    },
    {
     "data": {
      "text/plain": [
       "(100, 0.564028671681881)"
      ]
     },
     "execution_count": 43,
     "metadata": {},
     "output_type": "execute_result"
    }
   ],
   "source": [
    "# Configurando os hiperparametros do modelo\n",
    "args = {'learning_rate':3e-5,\n",
    "        'num_train_epochs': 1, \n",
    "        'reprocess_input_data': True, \n",
    "        'overwrite_output_dir': True,\n",
    "        'max_seq_length': max_seq_length,\n",
    "        'train_batch_size': 32,\n",
    "        }\n",
    "\n",
    "\n",
    "# Create a ClassificationModel\n",
    "bert_model = ClassificationModel('bert', 'bert-base-cased', \n",
    "                                 num_labels=2, use_cuda=False, \n",
    "                                 args=args\n",
    "                                )\n",
    "\n",
    "\n",
    "bert_model.train_model(df_train)"
   ]
  },
  {
   "cell_type": "code",
   "execution_count": 44,
   "metadata": {},
   "outputs": [
    {
     "data": {
      "application/vnd.jupyter.widget-view+json": {
       "model_id": "06e68ed0a69c4615ba7ddafc31093d00",
       "version_major": 2,
       "version_minor": 0
      },
      "text/plain": [
       "Running Evaluation:   0%|          | 0/100 [00:00<?, ?it/s]"
      ]
     },
     "metadata": {},
     "output_type": "display_data"
    },
    {
     "data": {
      "text/plain": [
       "{'mcc': 0.5540787464454735,\n",
       " 'tp': 295,\n",
       " 'tn': 325,\n",
       " 'fp': 68,\n",
       " 'fn': 112,\n",
       " 'auroc': 0.854724259304412,\n",
       " 'auprc': 0.8517501680760908,\n",
       " 'f1': 0.775,\n",
       " 'acc': 0.775,\n",
       " 'eval_loss': 0.4855024354159832}"
      ]
     },
     "execution_count": 44,
     "metadata": {},
     "output_type": "execute_result"
    }
   ],
   "source": [
    "from sklearn.metrics import f1_score, accuracy_score\n",
    "\n",
    "def f1_multiclass(labels, preds):\n",
    "    return f1_score(labels, preds, average='micro')\n",
    "\n",
    "\n",
    "result, model_outputs, wrong_predictions = bert_model.eval_model(df_test, f1=f1_multiclass, acc=accuracy_score)\n",
    "result"
   ]
  },
  {
   "cell_type": "code",
   "execution_count": null,
   "metadata": {},
   "outputs": [],
   "source": []
  }
 ],
 "metadata": {
  "kernelspec": {
   "display_name": "Python 3",
   "language": "python",
   "name": "python3"
  },
  "language_info": {
   "codemirror_mode": {
    "name": "ipython",
    "version": 3
   },
   "file_extension": ".py",
   "mimetype": "text/x-python",
   "name": "python",
   "nbconvert_exporter": "python",
   "pygments_lexer": "ipython3",
   "version": "3.7.3"
  }
 },
 "nbformat": 4,
 "nbformat_minor": 2
}
